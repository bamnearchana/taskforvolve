{
 "cells": [
  {
   "cell_type": "markdown",
   "id": "f963681e",
   "metadata": {},
   "source": [
    "# python code which can fetch following detail of system's \n",
    "\n",
    "<h3><ol><li>All Installed software’s list</li>\n",
    "    <li>Internet Speed</li>\n",
    "    <li>Screen resolvution</li>\n",
    "<li>CPU model</li>\n",
    "<li>No of core and threads of CPU</li>\n",
    "<li>GPU model ( If exist )</li>\n",
    "<li>RAM Size ( In GB )</li>\n",
    "<li>Screen size ( like, 15 inch, 21 inch)</li>\n",
    "<li>Wifi/Ethernet mac address</li>\n",
    "<li>Public IP address</li>\n",
    " <li>Windows version</li></ol>\n",
    "    </h3>\n"
   ]
  },
  {
   "cell_type": "markdown",
   "id": "07e7a212",
   "metadata": {},
   "source": [
    "# Task 1 All Installed software’s list"
   ]
  },
  {
   "cell_type": "code",
   "execution_count": 1,
   "id": "0d45f7dd",
   "metadata": {},
   "outputs": [
    {
     "data": {
      "text/plain": [
       "['System Idle Process',\n",
       " 'System',\n",
       " 'Registry',\n",
       " 'smss.exe',\n",
       " 'svchost.exe',\n",
       " 'fontdrvhost.exe',\n",
       " 'csrss.exe',\n",
       " 'fontdrvhost.exe',\n",
       " 'wininit.exe',\n",
       " 'csrss.exe',\n",
       " 'winlogon.exe',\n",
       " 'services.exe',\n",
       " 'lsass.exe',\n",
       " 'svchost.exe',\n",
       " 'svchost.exe',\n",
       " 'dwm.exe',\n",
       " 'svchost.exe',\n",
       " 'svchost.exe',\n",
       " 'svchost.exe',\n",
       " 'svchost.exe',\n",
       " 'SystemSettings.exe',\n",
       " 'svchost.exe',\n",
       " 'svchost.exe',\n",
       " 'svchost.exe',\n",
       " 'WhatsApp.exe',\n",
       " 'WUDFHost.exe',\n",
       " 'AnyDesk.exe',\n",
       " 'IntelCpHeciSvc.exe',\n",
       " 'svchost.exe',\n",
       " 'svchost.exe',\n",
       " 'IntelCpHDCPSvc.exe',\n",
       " 'svchost.exe',\n",
       " 'svchost.exe',\n",
       " 'svchost.exe',\n",
       " 'svchost.exe',\n",
       " 'svchost.exe',\n",
       " 'msedgewebview2.exe',\n",
       " 'svchost.exe',\n",
       " 'svchost.exe',\n",
       " 'Lenovo.Modern.ImController.exe',\n",
       " 'svchost.exe',\n",
       " 'svchost.exe',\n",
       " 'svchost.exe',\n",
       " 'svchost.exe',\n",
       " 'LenovoVantage-(GenericMessagingAddin).exe',\n",
       " 'svchost.exe',\n",
       " 'SocketHeciServer.exe',\n",
       " 'svchost.exe',\n",
       " 'svchost.exe',\n",
       " 'Locator.exe',\n",
       " 'svchost.exe',\n",
       " 'SecurityHealthService.exe',\n",
       " 'svchost.exe',\n",
       " 'MemCompression',\n",
       " 'svchost.exe',\n",
       " 'msedgewebview2.exe',\n",
       " 'svchost.exe',\n",
       " 'svchost.exe',\n",
       " 'igfxCUIService.exe',\n",
       " 'SearchProtocolHost.exe',\n",
       " 'GoogleCrashHandler.exe',\n",
       " 'svchost.exe',\n",
       " 'msedgewebview2.exe',\n",
       " 'svchost.exe',\n",
       " 'msedgewebview2.exe',\n",
       " 'FMService64.exe',\n",
       " 'msedgewebview2.exe',\n",
       " 'svchost.exe',\n",
       " 'msedgewebview2.exe',\n",
       " 'svchost.exe',\n",
       " 'svchost.exe',\n",
       " 'svchost.exe',\n",
       " 'svchost.exe',\n",
       " 'esif_uf.exe',\n",
       " 'DuckDuckGo.exe',\n",
       " 'svchost.exe',\n",
       " 'OneApp.IGCC.WinService.exe',\n",
       " 'svchost.exe',\n",
       " 'chrome.exe',\n",
       " 'WUDFHost.exe',\n",
       " 'msedgewebview2.exe',\n",
       " 'svchost.exe',\n",
       " 'svchost.exe',\n",
       " 'spoolsv.exe',\n",
       " 'svchost.exe',\n",
       " 'chrome.exe',\n",
       " 'svchost.exe',\n",
       " 'WUDFHost.exe',\n",
       " 'wlanext.exe',\n",
       " 'conhost.exe',\n",
       " 'AnyDesk.exe',\n",
       " 'svchost.exe',\n",
       " 'svchost.exe',\n",
       " 'DAX3API.exe',\n",
       " 'svchost.exe',\n",
       " 'sihost.exe',\n",
       " 'msedgewebview2.exe',\n",
       " 'svchost.exe',\n",
       " 'chrome.exe',\n",
       " 'LenovoVantageService.exe',\n",
       " 'LenovoUtilityService.exe',\n",
       " 'svchost.exe',\n",
       " 'LNBITSSvc.exe',\n",
       " 'LMS.exe',\n",
       " 'mongod.exe',\n",
       " 'mysqld.exe',\n",
       " 'svchost.exe',\n",
       " 'RstMwService.exe',\n",
       " 'RtkAudUService64.exe',\n",
       " 'svchost.exe',\n",
       " 'UDClientService.exe',\n",
       " 'svchost.exe',\n",
       " 'svchost.exe',\n",
       " 'MsMpEng.exe',\n",
       " 'jhi_service.exe',\n",
       " 'StartMenuExperienceHost.exe',\n",
       " 'OpenConsole.exe',\n",
       " 'msedgewebview2.exe',\n",
       " 'mysqld.exe',\n",
       " 'conhost.exe',\n",
       " 'svchost.exe',\n",
       " 'svchost.exe',\n",
       " 'msedgewebview2.exe',\n",
       " 'unsecapp.exe',\n",
       " 'msedgewebview2.exe',\n",
       " 'svchost.exe',\n",
       " 'chrome.exe',\n",
       " 'AggregatorHost.exe',\n",
       " 'svchost.exe',\n",
       " 'svchost.exe',\n",
       " 'explorer.exe',\n",
       " 'msedgewebview2.exe',\n",
       " 'chrome.exe',\n",
       " 'svchost.exe',\n",
       " 'svchost.exe',\n",
       " 'svchost.exe',\n",
       " 'chrome.exe',\n",
       " 'GoogleCrashHandler64.exe',\n",
       " 'cmd.exe',\n",
       " 'igfxEM.exe',\n",
       " 'taskhostw.exe',\n",
       " 'svchost.exe',\n",
       " 'cmd.exe',\n",
       " 'unsecapp.exe',\n",
       " 'SearchIndexer.exe',\n",
       " 'msedgewebview2.exe',\n",
       " 'FnHotkeyCapsLKNumLK.exe',\n",
       " 'AutoModeDetect.exe',\n",
       " 'WmiPrvSE.exe',\n",
       " 'ctfmon.exe',\n",
       " 'svchost.exe',\n",
       " 'SystemSettingsBroker.exe',\n",
       " 'conhost.exe',\n",
       " 'msedgewebview2.exe',\n",
       " 'svchost.exe',\n",
       " 'msedgewebview2.exe',\n",
       " 'svchost.exe',\n",
       " 'svchost.exe',\n",
       " 'unsecapp.exe',\n",
       " 'dllhost.exe',\n",
       " 'svchost.exe',\n",
       " 'svchost.exe',\n",
       " 'msedgewebview2.exe',\n",
       " 'python.exe',\n",
       " 'DAX3API.exe',\n",
       " 'FnHotkeyUtility.exe',\n",
       " 'Widgets.exe',\n",
       " 'RuntimeBroker.exe',\n",
       " 'RuntimeBroker.exe',\n",
       " 'svchost.exe',\n",
       " 'msedgewebview2.exe',\n",
       " 'jupyter-notebook.exe',\n",
       " 'msedgewebview2.exe',\n",
       " 'LenovoVantage-(VantageCoreAddin).exe',\n",
       " 'dllhost.exe',\n",
       " 'chrome.exe',\n",
       " 'LockApp.exe',\n",
       " 'python.exe',\n",
       " 'BingWallpaperApp.exe',\n",
       " 'WidgetService.exe',\n",
       " 'RuntimeBroker.exe',\n",
       " 'svchost.exe',\n",
       " 'BatteryWidgetHost.exe',\n",
       " 'LenovoVantage-(SettingsWidgetAddin).exe',\n",
       " 'chrome.exe',\n",
       " 'LenovoVantage-(IdeaNotebookAddin).exe',\n",
       " 'svchost.exe',\n",
       " 'audiodg.exe',\n",
       " 'chrome.exe',\n",
       " 'svchost.exe',\n",
       " 'chrome.exe',\n",
       " 'chrome.exe',\n",
       " 'NisSrv.exe',\n",
       " 'SearchHost.exe',\n",
       " 'svchost.exe',\n",
       " 'msedgewebview2.exe',\n",
       " 'msedgewebview2.exe',\n",
       " 'svchost.exe',\n",
       " 'svchost.exe',\n",
       " 'RuntimeBroker.exe',\n",
       " 'ApplicationFrameHost.exe',\n",
       " 'svchost.exe',\n",
       " 'ShellExperienceHost.exe',\n",
       " 'msedgewebview2.exe',\n",
       " 'svchost.exe',\n",
       " 'svchost.exe',\n",
       " 'RuntimeBroker.exe',\n",
       " 'WmiApSrv.exe',\n",
       " 'svchost.exe',\n",
       " 'UserOOBEBroker.exe',\n",
       " 'msedgewebview2.exe',\n",
       " 'RuntimeBroker.exe',\n",
       " 'msedgewebview2.exe',\n",
       " 'msedgewebview2.exe',\n",
       " 'aesm_service.exe',\n",
       " 'svchost.exe',\n",
       " 'msedgewebview2.exe',\n",
       " 'svchost.exe',\n",
       " 'chrome.exe',\n",
       " 'msedgewebview2.exe',\n",
       " 'chrome.exe',\n",
       " 'msedgewebview2.exe',\n",
       " 'msedgewebview2.exe',\n",
       " 'msedgewebview2.exe',\n",
       " 'msedgewebview2.exe',\n",
       " 'taskhostw.exe',\n",
       " 'backgroundTaskHost.exe',\n",
       " 'msedgewebview2.exe',\n",
       " 'LenovoVantage-(DeviceSettingsSystemAddin).exe',\n",
       " 'svchost.exe',\n",
       " 'chrome.exe',\n",
       " 'msedgewebview2.exe',\n",
       " 'msedgewebview2.exe',\n",
       " 'msedgewebview2.exe',\n",
       " 'svchost.exe',\n",
       " 'dllhost.exe',\n",
       " 'LenovoVantage-(MultimediaAddin).exe',\n",
       " 'jupyter.exe',\n",
       " 'conhost.exe',\n",
       " 'python.exe',\n",
       " 'chrome.exe',\n",
       " 'chrome.exe',\n",
       " 'WindowsTerminal.exe',\n",
       " 'OpenConsole.exe',\n",
       " 'RuntimeBroker.exe',\n",
       " 'svchost.exe',\n",
       " 'svchost.exe',\n",
       " 'svchost.exe',\n",
       " 'chrome.exe',\n",
       " 'Lenovo.Modern.ImController.PluginHost.Device.exe']"
      ]
     },
     "execution_count": 1,
     "metadata": {},
     "output_type": "execute_result"
    }
   ],
   "source": [
    "import psutil\n",
    "\n",
    "def get_installed_software():\n",
    "    try:\n",
    "        # Get a list of all running processes\n",
    "        processes = psutil.process_iter(['pid', 'name'])\n",
    "\n",
    "        # Extract and return the names of the processes\n",
    "        software_list = [p.info['name'] for p in processes]\n",
    "        return software_list\n",
    "    except Exception as e:\n",
    "        return f\"Error fetching software list: {str(e)}\"\n",
    "get_installed_software()"
   ]
  },
  {
   "cell_type": "markdown",
   "id": "987ce43e",
   "metadata": {},
   "source": [
    "# Task 2 Internet Speed"
   ]
  },
  {
   "cell_type": "code",
   "execution_count": 2,
   "id": "92d7098c",
   "metadata": {},
   "outputs": [
    {
     "data": {
      "text/plain": [
       "{'Download Speed': '0.01 Mbps', 'Upload Speed': '0.09 Mbps'}"
      ]
     },
     "execution_count": 2,
     "metadata": {},
     "output_type": "execute_result"
    }
   ],
   "source": [
    "import speedtest\n",
    "\n",
    "def get_internet_speed():\n",
    "    try:\n",
    "        st = speedtest.Speedtest()\n",
    "        download_speed = st.download() / 10**6  # Convert to Mbps\n",
    "        upload_speed = st.upload() / 10**6  # Convert to Mbps\n",
    "\n",
    "        return {\n",
    "            'Download Speed': f\"{download_speed:.2f} Mbps\",\n",
    "            'Upload Speed': f\"{upload_speed:.2f} Mbps\"\n",
    "        }\n",
    "    except Exception as e:\n",
    "        return f\"Error fetching internet speed: {str(e)}\"\n",
    "get_internet_speed()"
   ]
  },
  {
   "cell_type": "markdown",
   "id": "f7cbf30f",
   "metadata": {},
   "source": [
    "# Task 3 Screen resolvution"
   ]
  },
  {
   "cell_type": "code",
   "execution_count": 3,
   "id": "fa1baa75",
   "metadata": {},
   "outputs": [
    {
     "data": {
      "text/plain": [
       "{'Screen Resolution': '1536x864 pixels'}"
      ]
     },
     "execution_count": 3,
     "metadata": {},
     "output_type": "execute_result"
    }
   ],
   "source": [
    "import tkinter as tk\n",
    "\n",
    "def get_screen_resolution():\n",
    "    try:\n",
    "        root = tk.Tk()\n",
    "        screen_width = root.winfo_screenwidth()\n",
    "        screen_height = root.winfo_screenheight()\n",
    "        root.destroy()\n",
    "\n",
    "        return {\n",
    "            'Screen Resolution': f\"{screen_width}x{screen_height} pixels\"\n",
    "        }\n",
    "    except Exception as e:\n",
    "        return f\"Error fetching screen resolution: {str(e)}\"\n",
    "    \n",
    "get_screen_resolution()"
   ]
  },
  {
   "cell_type": "markdown",
   "id": "cf9b40f7",
   "metadata": {},
   "source": [
    "# Task 4 CPU model"
   ]
  },
  {
   "cell_type": "code",
   "execution_count": 4,
   "id": "ca66bffc",
   "metadata": {},
   "outputs": [
    {
     "data": {
      "text/plain": [
       "{'CPU Model': 'Intel64 Family 6 Model 142 Stepping 12, GenuineIntel'}"
      ]
     },
     "execution_count": 4,
     "metadata": {},
     "output_type": "execute_result"
    }
   ],
   "source": [
    "import platform\n",
    "\n",
    "def get_cpu_model():\n",
    "    try:\n",
    "        processor = platform.processor()\n",
    "        return {\n",
    "            'CPU Model': processor\n",
    "        }\n",
    "    except Exception as e:\n",
    "        return f\"Error fetching CPU model: {str(e)}\"\n",
    "get_cpu_model()"
   ]
  },
  {
   "cell_type": "markdown",
   "id": "6ec454a0",
   "metadata": {},
   "source": [
    "# Task 5 No of core and threads of CPU"
   ]
  },
  {
   "cell_type": "code",
   "execution_count": 5,
   "id": "40b42a3a",
   "metadata": {},
   "outputs": [
    {
     "data": {
      "text/plain": [
       "{'CPU Cores': 2, 'CPU Threads': 4}"
      ]
     },
     "execution_count": 5,
     "metadata": {},
     "output_type": "execute_result"
    }
   ],
   "source": [
    "import psutil\n",
    "\n",
    "def get_cpu_info():\n",
    "    try:\n",
    "        cpu_info = {\n",
    "            'CPU Cores': psutil.cpu_count(logical=False),\n",
    "            'CPU Threads': psutil.cpu_count(logical=True)\n",
    "        }\n",
    "        return cpu_info\n",
    "    except Exception as e:\n",
    "        return f\"Error fetching CPU information: {str(e)}\"\n",
    "get_cpu_info()\n"
   ]
  },
  {
   "cell_type": "markdown",
   "id": "ec4ba5b0",
   "metadata": {},
   "source": [
    "# Task 6 GPU model ( If exist )"
   ]
  },
  {
   "cell_type": "code",
   "execution_count": 6,
   "id": "a6cd2775",
   "metadata": {},
   "outputs": [
    {
     "data": {
      "text/plain": [
       "{'GPU Model': 'No GPU detected'}"
      ]
     },
     "execution_count": 6,
     "metadata": {},
     "output_type": "execute_result"
    }
   ],
   "source": [
    "import GPUtil\n",
    "\n",
    "def get_gpu_model():\n",
    "    try:\n",
    "        gpus = GPUtil.getGPUs()\n",
    "\n",
    "        if gpus:\n",
    "            gpu_info = {\n",
    "                'GPU Model': gpus[0].name\n",
    "            }\n",
    "            return gpu_info\n",
    "        else:\n",
    "            return {'GPU Model': 'No GPU detected'}\n",
    "    except Exception as e:\n",
    "        return f\"Error fetching GPU information: {str(e)}\"\n",
    "    \n",
    "get_gpu_model()\n"
   ]
  },
  {
   "cell_type": "markdown",
   "id": "6b639243",
   "metadata": {},
   "source": [
    "# Task 7 RAM Size ( In GB )"
   ]
  },
  {
   "cell_type": "code",
   "execution_count": 7,
   "id": "48433622",
   "metadata": {},
   "outputs": [
    {
     "data": {
      "text/plain": [
       "{'RAM Size': 7.84}"
      ]
     },
     "execution_count": 7,
     "metadata": {},
     "output_type": "execute_result"
    }
   ],
   "source": [
    "import psutil\n",
    "\n",
    "def get_ram_size():\n",
    "    try:\n",
    "        ram_info = {\n",
    "            'RAM Size': round(psutil.virtual_memory().total / (1024 ** 3), 2)  # Convert to GB\n",
    "        }\n",
    "        return ram_info\n",
    "    except Exception as e:\n",
    "        return f\"Error fetching RAM information: {str(e)}\"\n",
    "get_ram_size()"
   ]
  },
  {
   "cell_type": "markdown",
   "id": "2ea14069",
   "metadata": {},
   "source": [
    "# Task 8 Screen size ( like, 15 inch, 21 inch)"
   ]
  },
  {
   "cell_type": "code",
   "execution_count": 9,
   "id": "588e8a55",
   "metadata": {},
   "outputs": [
    {
     "data": {
      "text/plain": [
       "{'Screen Size': '1920x1080 pixels'}"
      ]
     },
     "execution_count": 9,
     "metadata": {},
     "output_type": "execute_result"
    }
   ],
   "source": [
    "from screeninfo import get_monitors\n",
    "\n",
    "def get_screen_size():\n",
    "    try:\n",
    "        monitors = get_monitors()\n",
    "\n",
    "        if monitors:\n",
    "            screen_info = {\n",
    "                'Screen Size': f\"{monitors[0].width}x{monitors[0].height} pixels\"\n",
    "            }\n",
    "            return screen_info\n",
    "        else:\n",
    "            return {'Screen Size': 'Screen information not available'}\n",
    "    except Exception as e:\n",
    "        return f\"Error fetching screen size: {str(e)}\"\n",
    "get_screen_size()"
   ]
  },
  {
   "cell_type": "markdown",
   "id": "d4092a6a",
   "metadata": {},
   "source": [
    "# Task 9 Wifi/Ethernet mac address"
   ]
  },
  {
   "cell_type": "code",
   "execution_count": 10,
   "id": "0021dd27",
   "metadata": {},
   "outputs": [
    {
     "data": {
      "text/plain": [
       "{'Local Area Connection* 3': 'EC-63-D7-E6-A0-56',\n",
       " 'Local Area Connection* 4': 'EE-63-D7-E6-A0-55',\n",
       " 'Wi-Fi': 'EC-63-D7-E6-A0-55',\n",
       " 'Bluetooth Network Connection': 'EC-63-D7-E6-A0-59'}"
      ]
     },
     "execution_count": 10,
     "metadata": {},
     "output_type": "execute_result"
    }
   ],
   "source": [
    "import psutil\n",
    "import uuid\n",
    "\n",
    "def get_mac_addresses():\n",
    "    try:\n",
    "        mac_info = {}\n",
    "\n",
    "        # Get all network interfaces and their MAC addresses\n",
    "        interfaces = psutil.net_if_addrs()\n",
    "        for interface, addrs in interfaces.items():\n",
    "            for addr in addrs:\n",
    "                if addr.family == psutil.AF_LINK:\n",
    "                    mac_info[interface] = addr.address\n",
    "\n",
    "        return mac_info\n",
    "    except Exception as e:\n",
    "        return f\"Error fetching MAC addresses: {str(e)}\"\n",
    "get_mac_addresses()"
   ]
  },
  {
   "cell_type": "markdown",
   "id": "bb5ec348",
   "metadata": {},
   "source": [
    "# Task 10 Public IP address"
   ]
  },
  {
   "cell_type": "code",
   "execution_count": 11,
   "id": "04e7d480",
   "metadata": {},
   "outputs": [
    {
     "data": {
      "text/plain": [
       "{'Public IP Address': '2409:40c4:39:591:7017:66df:73c4:4ae0'}"
      ]
     },
     "execution_count": 11,
     "metadata": {},
     "output_type": "execute_result"
    }
   ],
   "source": [
    "import requests\n",
    "\n",
    "def get_public_ip():\n",
    "    try:\n",
    "        response = requests.get(\"https://api64.ipify.org?format=json\")\n",
    "        public_ip = response.json()['ip']\n",
    "        return {\n",
    "            'Public IP Address': public_ip\n",
    "        }\n",
    "    except Exception as e:\n",
    "        return f\"Error fetching public IP address: {str(e)}\"\n",
    "get_public_ip()"
   ]
  },
  {
   "cell_type": "markdown",
   "id": "60511837",
   "metadata": {},
   "source": [
    "# Task 11  Windows version\n"
   ]
  },
  {
   "cell_type": "code",
   "execution_count": 12,
   "id": "0d812257",
   "metadata": {},
   "outputs": [
    {
     "data": {
      "text/plain": [
       "{'Windows Version': 'Windows 10.0.22621'}"
      ]
     },
     "execution_count": 12,
     "metadata": {},
     "output_type": "execute_result"
    }
   ],
   "source": [
    "import platform\n",
    "\n",
    "def get_windows_version():\n",
    "    try:\n",
    "        windows_version = {\n",
    "            'Windows Version': platform.system() + ' ' + platform.version()\n",
    "        }\n",
    "        return windows_version\n",
    "    except Exception as e:\n",
    "        return f\"Error fetching Windows version: {str(e)}\"\n",
    "get_windows_version()"
   ]
  },
  {
   "cell_type": "code",
   "execution_count": null,
   "id": "50cfee9d",
   "metadata": {},
   "outputs": [],
   "source": []
  }
 ],
 "metadata": {
  "kernelspec": {
   "display_name": "Python 3 (ipykernel)",
   "language": "python",
   "name": "python3"
  },
  "language_info": {
   "codemirror_mode": {
    "name": "ipython",
    "version": 3
   },
   "file_extension": ".py",
   "mimetype": "text/x-python",
   "name": "python",
   "nbconvert_exporter": "python",
   "pygments_lexer": "ipython3",
   "version": "3.9.0"
  }
 },
 "nbformat": 4,
 "nbformat_minor": 5
}
